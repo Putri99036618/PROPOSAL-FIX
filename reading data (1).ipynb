{
 "cells": [
  {
   "cell_type": "code",
   "execution_count": 2,
   "id": "26767b50",
   "metadata": {
    "tags": []
   },
   "outputs": [
    {
     "name": "stderr",
     "output_type": "stream",
     "text": [
      "── \u001b[1mAttaching packages\u001b[22m ─────────────────────────────────────── tidyverse 1.3.2 ──\n",
      "\u001b[32m✔\u001b[39m \u001b[34mggplot2\u001b[39m 3.4.2     \u001b[32m✔\u001b[39m \u001b[34mpurrr  \u001b[39m 1.0.1\n",
      "\u001b[32m✔\u001b[39m \u001b[34mtibble \u001b[39m 3.2.1     \u001b[32m✔\u001b[39m \u001b[34mdplyr  \u001b[39m 1.1.1\n",
      "\u001b[32m✔\u001b[39m \u001b[34mtidyr  \u001b[39m 1.3.0     \u001b[32m✔\u001b[39m \u001b[34mstringr\u001b[39m 1.5.0\n",
      "\u001b[32m✔\u001b[39m \u001b[34mreadr  \u001b[39m 2.1.3     \u001b[32m✔\u001b[39m \u001b[34mforcats\u001b[39m 0.5.2\n",
      "── \u001b[1mConflicts\u001b[22m ────────────────────────────────────────── tidyverse_conflicts() ──\n",
      "\u001b[31m✖\u001b[39m \u001b[34mdplyr\u001b[39m::\u001b[32mfilter()\u001b[39m masks \u001b[34mstats\u001b[39m::filter()\n",
      "\u001b[31m✖\u001b[39m \u001b[34mdplyr\u001b[39m::\u001b[32mlag()\u001b[39m    masks \u001b[34mstats\u001b[39m::lag()\n",
      "\u001b[1mRows: \u001b[22m\u001b[34m4177\u001b[39m \u001b[1mColumns: \u001b[22m\u001b[34m9\u001b[39m\n",
      "\u001b[36m──\u001b[39m \u001b[1mColumn specification\u001b[22m \u001b[36m────────────────────────────────────────────────────────\u001b[39m\n",
      "\u001b[1mDelimiter:\u001b[22m \",\"\n",
      "\u001b[31mchr\u001b[39m (1): X1\n",
      "\u001b[32mdbl\u001b[39m (8): X2, X3, X4, X5, X6, X7, X8, X9\n",
      "\n",
      "\u001b[36mℹ\u001b[39m Use `spec()` to retrieve the full column specification for this data.\n",
      "\u001b[36mℹ\u001b[39m Specify the column types or set `show_col_types = FALSE` to quiet this message.\n"
     ]
    },
    {
     "data": {
      "text/html": [
       "<table class=\"dataframe\">\n",
       "<caption>A tibble: 6 × 10</caption>\n",
       "<thead>\n",
       "\t<tr><th scope=col>sex</th><th scope=col>length_mm</th><th scope=col>diameter_mm</th><th scope=col>height_mm</th><th scope=col>whole_weight_g</th><th scope=col>shucked_weight_g</th><th scope=col>viscera_weight_g</th><th scope=col>shell_weight_g</th><th scope=col>rings</th><th scope=col>age_yrs</th></tr>\n",
       "\t<tr><th scope=col>&lt;chr&gt;</th><th scope=col>&lt;dbl&gt;</th><th scope=col>&lt;dbl&gt;</th><th scope=col>&lt;dbl&gt;</th><th scope=col>&lt;dbl&gt;</th><th scope=col>&lt;dbl&gt;</th><th scope=col>&lt;dbl&gt;</th><th scope=col>&lt;dbl&gt;</th><th scope=col>&lt;dbl&gt;</th><th scope=col>&lt;dbl&gt;</th></tr>\n",
       "</thead>\n",
       "<tbody>\n",
       "\t<tr><td>M</td><td>0.455</td><td>0.365</td><td>0.095</td><td>0.5140</td><td>0.2245</td><td>0.1010</td><td>0.150</td><td>15</td><td>16.5</td></tr>\n",
       "\t<tr><td>M</td><td>0.350</td><td>0.265</td><td>0.090</td><td>0.2255</td><td>0.0995</td><td>0.0485</td><td>0.070</td><td> 7</td><td> 8.5</td></tr>\n",
       "\t<tr><td>F</td><td>0.530</td><td>0.420</td><td>0.135</td><td>0.6770</td><td>0.2565</td><td>0.1415</td><td>0.210</td><td> 9</td><td>10.5</td></tr>\n",
       "\t<tr><td>M</td><td>0.440</td><td>0.365</td><td>0.125</td><td>0.5160</td><td>0.2155</td><td>0.1140</td><td>0.155</td><td>10</td><td>11.5</td></tr>\n",
       "\t<tr><td>I</td><td>0.330</td><td>0.255</td><td>0.080</td><td>0.2050</td><td>0.0895</td><td>0.0395</td><td>0.055</td><td> 7</td><td> 8.5</td></tr>\n",
       "\t<tr><td>I</td><td>0.425</td><td>0.300</td><td>0.095</td><td>0.3515</td><td>0.1410</td><td>0.0775</td><td>0.120</td><td> 8</td><td> 9.5</td></tr>\n",
       "</tbody>\n",
       "</table>\n"
      ],
      "text/latex": [
       "A tibble: 6 × 10\n",
       "\\begin{tabular}{llllllllll}\n",
       " sex & length\\_mm & diameter\\_mm & height\\_mm & whole\\_weight\\_g & shucked\\_weight\\_g & viscera\\_weight\\_g & shell\\_weight\\_g & rings & age\\_yrs\\\\\n",
       " <chr> & <dbl> & <dbl> & <dbl> & <dbl> & <dbl> & <dbl> & <dbl> & <dbl> & <dbl>\\\\\n",
       "\\hline\n",
       "\t M & 0.455 & 0.365 & 0.095 & 0.5140 & 0.2245 & 0.1010 & 0.150 & 15 & 16.5\\\\\n",
       "\t M & 0.350 & 0.265 & 0.090 & 0.2255 & 0.0995 & 0.0485 & 0.070 &  7 &  8.5\\\\\n",
       "\t F & 0.530 & 0.420 & 0.135 & 0.6770 & 0.2565 & 0.1415 & 0.210 &  9 & 10.5\\\\\n",
       "\t M & 0.440 & 0.365 & 0.125 & 0.5160 & 0.2155 & 0.1140 & 0.155 & 10 & 11.5\\\\\n",
       "\t I & 0.330 & 0.255 & 0.080 & 0.2050 & 0.0895 & 0.0395 & 0.055 &  7 &  8.5\\\\\n",
       "\t I & 0.425 & 0.300 & 0.095 & 0.3515 & 0.1410 & 0.0775 & 0.120 &  8 &  9.5\\\\\n",
       "\\end{tabular}\n"
      ],
      "text/markdown": [
       "\n",
       "A tibble: 6 × 10\n",
       "\n",
       "| sex &lt;chr&gt; | length_mm &lt;dbl&gt; | diameter_mm &lt;dbl&gt; | height_mm &lt;dbl&gt; | whole_weight_g &lt;dbl&gt; | shucked_weight_g &lt;dbl&gt; | viscera_weight_g &lt;dbl&gt; | shell_weight_g &lt;dbl&gt; | rings &lt;dbl&gt; | age_yrs &lt;dbl&gt; |\n",
       "|---|---|---|---|---|---|---|---|---|---|\n",
       "| M | 0.455 | 0.365 | 0.095 | 0.5140 | 0.2245 | 0.1010 | 0.150 | 15 | 16.5 |\n",
       "| M | 0.350 | 0.265 | 0.090 | 0.2255 | 0.0995 | 0.0485 | 0.070 |  7 |  8.5 |\n",
       "| F | 0.530 | 0.420 | 0.135 | 0.6770 | 0.2565 | 0.1415 | 0.210 |  9 | 10.5 |\n",
       "| M | 0.440 | 0.365 | 0.125 | 0.5160 | 0.2155 | 0.1140 | 0.155 | 10 | 11.5 |\n",
       "| I | 0.330 | 0.255 | 0.080 | 0.2050 | 0.0895 | 0.0395 | 0.055 |  7 |  8.5 |\n",
       "| I | 0.425 | 0.300 | 0.095 | 0.3515 | 0.1410 | 0.0775 | 0.120 |  8 |  9.5 |\n",
       "\n"
      ],
      "text/plain": [
       "  sex length_mm diameter_mm height_mm whole_weight_g shucked_weight_g\n",
       "1 M   0.455     0.365       0.095     0.5140         0.2245          \n",
       "2 M   0.350     0.265       0.090     0.2255         0.0995          \n",
       "3 F   0.530     0.420       0.135     0.6770         0.2565          \n",
       "4 M   0.440     0.365       0.125     0.5160         0.2155          \n",
       "5 I   0.330     0.255       0.080     0.2050         0.0895          \n",
       "6 I   0.425     0.300       0.095     0.3515         0.1410          \n",
       "  viscera_weight_g shell_weight_g rings age_yrs\n",
       "1 0.1010           0.150          15    16.5   \n",
       "2 0.0485           0.070           7     8.5   \n",
       "3 0.1415           0.210           9    10.5   \n",
       "4 0.1140           0.155          10    11.5   \n",
       "5 0.0395           0.055           7     8.5   \n",
       "6 0.0775           0.120           8     9.5   "
      ]
     },
     "metadata": {},
     "output_type": "display_data"
    }
   ],
   "source": [
    "library(tidyverse)\n",
    "abalone_data <- read_csv(\"abalone.data\", col_names = FALSE)\n",
    "abalone_data <- rename(abalone_data, \n",
    "                       sex = X1,\n",
    "                       length_mm = X2,\n",
    "                       diameter_mm = X3,\n",
    "                       height_mm = X4,\n",
    "                       whole_weight_g = X5,\n",
    "                       shucked_weight_g = X6,\n",
    "                       viscera_weight_g = X7,\n",
    "                       shell_weight_g = X8,\n",
    "                       rings = X9)\n",
    "abalone_data <- mutate(abalone_data, age_yrs = rings + 1.5)\n",
    "head(abalone_data)"
   ]
  },
  {
   "cell_type": "code",
   "execution_count": 3,
   "id": "cbd2d3a3-f04a-4783-b78d-40eb35ddcdae",
   "metadata": {
    "tags": []
   },
   "outputs": [
    {
     "data": {
      "text/html": [
       "<table class=\"dataframe\">\n",
       "<caption>A tibble: 6 × 4</caption>\n",
       "<thead>\n",
       "\t<tr><th scope=col>sex</th><th scope=col>length_mm</th><th scope=col>whole_weight_g</th><th scope=col>age_yrs</th></tr>\n",
       "\t<tr><th scope=col>&lt;chr&gt;</th><th scope=col>&lt;dbl&gt;</th><th scope=col>&lt;dbl&gt;</th><th scope=col>&lt;dbl&gt;</th></tr>\n",
       "</thead>\n",
       "<tbody>\n",
       "\t<tr><td>M</td><td>0.455</td><td>0.5140</td><td>16.5</td></tr>\n",
       "\t<tr><td>M</td><td>0.350</td><td>0.2255</td><td> 8.5</td></tr>\n",
       "\t<tr><td>F</td><td>0.530</td><td>0.6770</td><td>10.5</td></tr>\n",
       "\t<tr><td>M</td><td>0.440</td><td>0.5160</td><td>11.5</td></tr>\n",
       "\t<tr><td>I</td><td>0.330</td><td>0.2050</td><td> 8.5</td></tr>\n",
       "\t<tr><td>I</td><td>0.425</td><td>0.3515</td><td> 9.5</td></tr>\n",
       "</tbody>\n",
       "</table>\n"
      ],
      "text/latex": [
       "A tibble: 6 × 4\n",
       "\\begin{tabular}{llll}\n",
       " sex & length\\_mm & whole\\_weight\\_g & age\\_yrs\\\\\n",
       " <chr> & <dbl> & <dbl> & <dbl>\\\\\n",
       "\\hline\n",
       "\t M & 0.455 & 0.5140 & 16.5\\\\\n",
       "\t M & 0.350 & 0.2255 &  8.5\\\\\n",
       "\t F & 0.530 & 0.6770 & 10.5\\\\\n",
       "\t M & 0.440 & 0.5160 & 11.5\\\\\n",
       "\t I & 0.330 & 0.2050 &  8.5\\\\\n",
       "\t I & 0.425 & 0.3515 &  9.5\\\\\n",
       "\\end{tabular}\n"
      ],
      "text/markdown": [
       "\n",
       "A tibble: 6 × 4\n",
       "\n",
       "| sex &lt;chr&gt; | length_mm &lt;dbl&gt; | whole_weight_g &lt;dbl&gt; | age_yrs &lt;dbl&gt; |\n",
       "|---|---|---|---|\n",
       "| M | 0.455 | 0.5140 | 16.5 |\n",
       "| M | 0.350 | 0.2255 |  8.5 |\n",
       "| F | 0.530 | 0.6770 | 10.5 |\n",
       "| M | 0.440 | 0.5160 | 11.5 |\n",
       "| I | 0.330 | 0.2050 |  8.5 |\n",
       "| I | 0.425 | 0.3515 |  9.5 |\n",
       "\n"
      ],
      "text/plain": [
       "  sex length_mm whole_weight_g age_yrs\n",
       "1 M   0.455     0.5140         16.5   \n",
       "2 M   0.350     0.2255          8.5   \n",
       "3 F   0.530     0.6770         10.5   \n",
       "4 M   0.440     0.5160         11.5   \n",
       "5 I   0.330     0.2050          8.5   \n",
       "6 I   0.425     0.3515          9.5   "
      ]
     },
     "metadata": {},
     "output_type": "display_data"
    }
   ],
   "source": [
    "abalone_data <- select(abalone_data, sex, length_mm, whole_weight_g, age_yrs)\n",
    "head(abalone_data)"
   ]
  },
  {
   "cell_type": "markdown",
   "id": "3842e5a5-5497-407d-975a-bb07a0585741",
   "metadata": {},
   "source": [
    "### Methods\n",
    "For our analysis we will only be using the length and whole weight of the abalone to predict it's age through use of regression. The length of an abalone is used in practice to determine maturity of the marine snail and the whole weight can be used to show growth, both of which are indicative of age. Using the length and whole weight of an abalone to predict age can be visualized through a scatter plot. "
   ]
  },
  {
   "cell_type": "markdown",
   "id": "2ac15e00-83f5-4af8-9fbb-2eda2e4b1037",
   "metadata": {},
   "source": [
    "### Splitting into Training Data\n",
    "\n",
    "since age is a categorical variable, we can split the data into training and test data using 'initial_split()'\n"
   ]
  },
  {
   "cell_type": "code",
   "execution_count": 4,
   "id": "562caedc-4a64-4e83-a664-6763ad130af5",
   "metadata": {
    "tags": []
   },
   "outputs": [
    {
     "data": {
      "text/html": [
       "<table class=\"dataframe\">\n",
       "<caption>A tibble: 6 × 4</caption>\n",
       "<thead>\n",
       "\t<tr><th scope=col>sex</th><th scope=col>length_mm</th><th scope=col>whole_weight_g</th><th scope=col>age_yrs</th></tr>\n",
       "\t<tr><th scope=col>&lt;fct&gt;</th><th scope=col>&lt;dbl&gt;</th><th scope=col>&lt;dbl&gt;</th><th scope=col>&lt;dbl&gt;</th></tr>\n",
       "</thead>\n",
       "<tbody>\n",
       "\t<tr><td>Male  </td><td>0.455</td><td>0.5140</td><td>16.5</td></tr>\n",
       "\t<tr><td>Male  </td><td>0.350</td><td>0.2255</td><td> 8.5</td></tr>\n",
       "\t<tr><td>Female</td><td>0.530</td><td>0.6770</td><td>10.5</td></tr>\n",
       "\t<tr><td>Male  </td><td>0.440</td><td>0.5160</td><td>11.5</td></tr>\n",
       "\t<tr><td>Infant</td><td>0.330</td><td>0.2050</td><td> 8.5</td></tr>\n",
       "\t<tr><td>Infant</td><td>0.425</td><td>0.3515</td><td> 9.5</td></tr>\n",
       "</tbody>\n",
       "</table>\n"
      ],
      "text/latex": [
       "A tibble: 6 × 4\n",
       "\\begin{tabular}{llll}\n",
       " sex & length\\_mm & whole\\_weight\\_g & age\\_yrs\\\\\n",
       " <fct> & <dbl> & <dbl> & <dbl>\\\\\n",
       "\\hline\n",
       "\t Male   & 0.455 & 0.5140 & 16.5\\\\\n",
       "\t Male   & 0.350 & 0.2255 &  8.5\\\\\n",
       "\t Female & 0.530 & 0.6770 & 10.5\\\\\n",
       "\t Male   & 0.440 & 0.5160 & 11.5\\\\\n",
       "\t Infant & 0.330 & 0.2050 &  8.5\\\\\n",
       "\t Infant & 0.425 & 0.3515 &  9.5\\\\\n",
       "\\end{tabular}\n"
      ],
      "text/markdown": [
       "\n",
       "A tibble: 6 × 4\n",
       "\n",
       "| sex &lt;fct&gt; | length_mm &lt;dbl&gt; | whole_weight_g &lt;dbl&gt; | age_yrs &lt;dbl&gt; |\n",
       "|---|---|---|---|\n",
       "| Male   | 0.455 | 0.5140 | 16.5 |\n",
       "| Male   | 0.350 | 0.2255 |  8.5 |\n",
       "| Female | 0.530 | 0.6770 | 10.5 |\n",
       "| Male   | 0.440 | 0.5160 | 11.5 |\n",
       "| Infant | 0.330 | 0.2050 |  8.5 |\n",
       "| Infant | 0.425 | 0.3515 |  9.5 |\n",
       "\n"
      ],
      "text/plain": [
       "  sex    length_mm whole_weight_g age_yrs\n",
       "1 Male   0.455     0.5140         16.5   \n",
       "2 Male   0.350     0.2255          8.5   \n",
       "3 Female 0.530     0.6770         10.5   \n",
       "4 Male   0.440     0.5160         11.5   \n",
       "5 Infant 0.330     0.2050          8.5   \n",
       "6 Infant 0.425     0.3515          9.5   "
      ]
     },
     "metadata": {},
     "output_type": "display_data"
    },
    {
     "name": "stdout",
     "output_type": "stream",
     "text": [
      "Rows: 4,177\n",
      "Columns: 4\n",
      "$ sex            \u001b[3m\u001b[90m<fct>\u001b[39m\u001b[23m Male, Male, Female, Male, Infant, Infant, Female, Femal…\n",
      "$ length_mm      \u001b[3m\u001b[90m<dbl>\u001b[39m\u001b[23m 0.455, 0.350, 0.530, 0.440, 0.330, 0.425, 0.530, 0.545,…\n",
      "$ whole_weight_g \u001b[3m\u001b[90m<dbl>\u001b[39m\u001b[23m 0.5140, 0.2255, 0.6770, 0.5160, 0.2050, 0.3515, 0.7775,…\n",
      "$ age_yrs        \u001b[3m\u001b[90m<dbl>\u001b[39m\u001b[23m 16.5, 8.5, 10.5, 11.5, 8.5, 9.5, 21.5, 17.5, 10.5, 20.5…\n"
     ]
    }
   ],
   "source": [
    "set.seed(1)\n",
    "\n",
    "abalone_data <- abalone_data |>\n",
    "  mutate(sex = as_factor(sex))  |>\n",
    "  mutate(sex = fct_recode(sex, \"Male\" = \"M\", \"Female\" = \"F\", \"Infant\" = \"I\"))\n",
    "head(abalone_data)\n",
    "glimpse(abalone_data)"
   ]
  },
  {
   "cell_type": "code",
   "execution_count": 5,
   "id": "31b2e284-bb52-43d8-8730-c4391691b3fd",
   "metadata": {
    "tags": []
   },
   "outputs": [
    {
     "name": "stderr",
     "output_type": "stream",
     "text": [
      "── \u001b[1mAttaching packages\u001b[22m ────────────────────────────────────── tidymodels 1.0.0 ──\n",
      "\n",
      "\u001b[32m✔\u001b[39m \u001b[34mbroom       \u001b[39m 1.0.2     \u001b[32m✔\u001b[39m \u001b[34mrsample     \u001b[39m 1.1.1\n",
      "\u001b[32m✔\u001b[39m \u001b[34mdials       \u001b[39m 1.1.0     \u001b[32m✔\u001b[39m \u001b[34mtune        \u001b[39m 1.0.1\n",
      "\u001b[32m✔\u001b[39m \u001b[34minfer       \u001b[39m 1.0.4     \u001b[32m✔\u001b[39m \u001b[34mworkflows   \u001b[39m 1.1.2\n",
      "\u001b[32m✔\u001b[39m \u001b[34mmodeldata   \u001b[39m 1.0.1     \u001b[32m✔\u001b[39m \u001b[34mworkflowsets\u001b[39m 1.0.0\n",
      "\u001b[32m✔\u001b[39m \u001b[34mparsnip     \u001b[39m 1.0.3     \u001b[32m✔\u001b[39m \u001b[34myardstick   \u001b[39m 1.1.0\n",
      "\u001b[32m✔\u001b[39m \u001b[34mrecipes     \u001b[39m 1.0.4     \n",
      "\n",
      "── \u001b[1mConflicts\u001b[22m ───────────────────────────────────────── tidymodels_conflicts() ──\n",
      "\u001b[31m✖\u001b[39m \u001b[34mscales\u001b[39m::\u001b[32mdiscard()\u001b[39m masks \u001b[34mpurrr\u001b[39m::discard()\n",
      "\u001b[31m✖\u001b[39m \u001b[34mdplyr\u001b[39m::\u001b[32mfilter()\u001b[39m   masks \u001b[34mstats\u001b[39m::filter()\n",
      "\u001b[31m✖\u001b[39m \u001b[34mrecipes\u001b[39m::\u001b[32mfixed()\u001b[39m  masks \u001b[34mstringr\u001b[39m::fixed()\n",
      "\u001b[31m✖\u001b[39m \u001b[34mdplyr\u001b[39m::\u001b[32mlag()\u001b[39m      masks \u001b[34mstats\u001b[39m::lag()\n",
      "\u001b[31m✖\u001b[39m \u001b[34myardstick\u001b[39m::\u001b[32mspec()\u001b[39m masks \u001b[34mreadr\u001b[39m::spec()\n",
      "\u001b[31m✖\u001b[39m \u001b[34mrecipes\u001b[39m::\u001b[32mstep()\u001b[39m   masks \u001b[34mstats\u001b[39m::step()\n",
      "\u001b[34m•\u001b[39m Dig deeper into tidy modeling with R at \u001b[32mhttps://www.tmwr.org\u001b[39m\n",
      "\n"
     ]
    }
   ],
   "source": [
    "library(tidymodels)\n",
    "\n",
    "abalone_split <- initial_split(abalone_data, prop = 0.75, strata = sex)\n",
    "abalone_train <- training(abalone_split)\n",
    "abalone_test <- testing(abalone_split)"
   ]
  },
  {
   "cell_type": "code",
   "execution_count": 6,
   "id": "705c1c60-e0f8-4611-93e7-022629938dd9",
   "metadata": {
    "tags": []
   },
   "outputs": [
    {
     "name": "stdout",
     "output_type": "stream",
     "text": [
      "Rows: 3,132\n",
      "Columns: 4\n",
      "$ sex            \u001b[3m\u001b[90m<fct>\u001b[39m\u001b[23m Female, Female, Female, Female, Female, Female, Female,…\n",
      "$ length_mm      \u001b[3m\u001b[90m<dbl>\u001b[39m\u001b[23m 0.545, 0.525, 0.535, 0.470, 0.440, 0.615, 0.580, 0.680,…\n",
      "$ whole_weight_g \u001b[3m\u001b[90m<dbl>\u001b[39m\u001b[23m 0.7680, 0.6065, 0.6845, 0.4755, 0.4510, 1.1615, 0.9955,…\n",
      "$ age_yrs        \u001b[3m\u001b[90m<dbl>\u001b[39m\u001b[23m 17.5, 15.5, 11.5, 11.5, 11.5, 11.5, 12.5, 16.5, 20.5, 1…\n"
     ]
    }
   ],
   "source": [
    "glimpse(abalone_train)"
   ]
  },
  {
   "cell_type": "code",
   "execution_count": 7,
   "id": "921925f7-ee03-4dc2-859c-223b7ed080d6",
   "metadata": {
    "tags": []
   },
   "outputs": [
    {
     "name": "stdout",
     "output_type": "stream",
     "text": [
      "Rows: 1,045\n",
      "Columns: 4\n",
      "$ sex            \u001b[3m\u001b[90m<fct>\u001b[39m\u001b[23m Female, Infant, Female, Female, Male, Male, Female, Fem…\n",
      "$ length_mm      \u001b[3m\u001b[90m<dbl>\u001b[39m\u001b[23m 0.530, 0.425, 0.530, 0.550, 0.365, 0.450, 0.565, 0.550,…\n",
      "$ whole_weight_g \u001b[3m\u001b[90m<dbl>\u001b[39m\u001b[23m 0.6770, 0.3515, 0.7775, 0.8945, 0.2555, 0.3810, 0.9395,…\n",
      "$ age_yrs        \u001b[3m\u001b[90m<dbl>\u001b[39m\u001b[23m 10.5, 9.5, 21.5, 20.5, 8.5, 10.5, 13.5, 10.5, 12.5, 14.…\n"
     ]
    }
   ],
   "source": [
    "glimpse(abalone_test)"
   ]
  },
  {
   "cell_type": "markdown",
   "id": "7788101e-a0e2-4da1-ae60-c3502dee0972",
   "metadata": {},
   "source": [
    "We can check to see how representative the training data is by comparing the proportion of each unique observation in the 'sex' variable across the training data 'abalone_train' and the original data 'abalone_data'. "
   ]
  },
  {
   "cell_type": "code",
   "execution_count": 8,
   "id": "b431340d-f9e8-4a88-aae8-0cfc1b70e022",
   "metadata": {
    "tags": []
   },
   "outputs": [
    {
     "data": {
      "text/html": [
       "<table class=\"dataframe\">\n",
       "<caption>A tibble: 3 × 3</caption>\n",
       "<thead>\n",
       "\t<tr><th scope=col>sex</th><th scope=col>n</th><th scope=col>percent</th></tr>\n",
       "\t<tr><th scope=col>&lt;fct&gt;</th><th scope=col>&lt;int&gt;</th><th scope=col>&lt;dbl&gt;</th></tr>\n",
       "</thead>\n",
       "<tbody>\n",
       "\t<tr><td>Male  </td><td>1528</td><td>36.58128</td></tr>\n",
       "\t<tr><td>Female</td><td>1307</td><td>31.29040</td></tr>\n",
       "\t<tr><td>Infant</td><td>1342</td><td>32.12832</td></tr>\n",
       "</tbody>\n",
       "</table>\n"
      ],
      "text/latex": [
       "A tibble: 3 × 3\n",
       "\\begin{tabular}{lll}\n",
       " sex & n & percent\\\\\n",
       " <fct> & <int> & <dbl>\\\\\n",
       "\\hline\n",
       "\t Male   & 1528 & 36.58128\\\\\n",
       "\t Female & 1307 & 31.29040\\\\\n",
       "\t Infant & 1342 & 32.12832\\\\\n",
       "\\end{tabular}\n"
      ],
      "text/markdown": [
       "\n",
       "A tibble: 3 × 3\n",
       "\n",
       "| sex &lt;fct&gt; | n &lt;int&gt; | percent &lt;dbl&gt; |\n",
       "|---|---|---|\n",
       "| Male   | 1528 | 36.58128 |\n",
       "| Female | 1307 | 31.29040 |\n",
       "| Infant | 1342 | 32.12832 |\n",
       "\n"
      ],
      "text/plain": [
       "  sex    n    percent \n",
       "1 Male   1528 36.58128\n",
       "2 Female 1307 31.29040\n",
       "3 Infant 1342 32.12832"
      ]
     },
     "metadata": {},
     "output_type": "display_data"
    }
   ],
   "source": [
    "#Checking for proportions of male, female, and infant abalone's in the original data\n",
    "abalone_proportions <- abalone_data |>\n",
    "                      group_by(sex) |>\n",
    "                      summarize(n = n()) |>\n",
    "                      mutate(percent = 100*n/nrow(abalone_data))\n",
    "\n",
    "abalone_proportions"
   ]
  },
  {
   "cell_type": "code",
   "execution_count": 9,
   "id": "ffd87729-a148-4c85-9cc0-ff8c4100e12b",
   "metadata": {
    "tags": []
   },
   "outputs": [
    {
     "data": {
      "text/html": [
       "<table class=\"dataframe\">\n",
       "<caption>A tibble: 3 × 3</caption>\n",
       "<thead>\n",
       "\t<tr><th scope=col>sex</th><th scope=col>n</th><th scope=col>percent</th></tr>\n",
       "\t<tr><th scope=col>&lt;fct&gt;</th><th scope=col>&lt;int&gt;</th><th scope=col>&lt;dbl&gt;</th></tr>\n",
       "</thead>\n",
       "<tbody>\n",
       "\t<tr><td>Male  </td><td>1146</td><td>36.59004</td></tr>\n",
       "\t<tr><td>Female</td><td> 980</td><td>31.28991</td></tr>\n",
       "\t<tr><td>Infant</td><td>1006</td><td>32.12005</td></tr>\n",
       "</tbody>\n",
       "</table>\n"
      ],
      "text/latex": [
       "A tibble: 3 × 3\n",
       "\\begin{tabular}{lll}\n",
       " sex & n & percent\\\\\n",
       " <fct> & <int> & <dbl>\\\\\n",
       "\\hline\n",
       "\t Male   & 1146 & 36.59004\\\\\n",
       "\t Female &  980 & 31.28991\\\\\n",
       "\t Infant & 1006 & 32.12005\\\\\n",
       "\\end{tabular}\n"
      ],
      "text/markdown": [
       "\n",
       "A tibble: 3 × 3\n",
       "\n",
       "| sex &lt;fct&gt; | n &lt;int&gt; | percent &lt;dbl&gt; |\n",
       "|---|---|---|\n",
       "| Male   | 1146 | 36.59004 |\n",
       "| Female |  980 | 31.28991 |\n",
       "| Infant | 1006 | 32.12005 |\n",
       "\n"
      ],
      "text/plain": [
       "  sex    n    percent \n",
       "1 Male   1146 36.59004\n",
       "2 Female  980 31.28991\n",
       "3 Infant 1006 32.12005"
      ]
     },
     "metadata": {},
     "output_type": "display_data"
    }
   ],
   "source": [
    "#Checking for proportions of male, female, and infant abalone's in the training data\n",
    "abalone_train_proportions <- abalone_train |>\n",
    "                      group_by(sex) |>\n",
    "                      summarize(n = n()) |>\n",
    "                      mutate(percent = 100*n/nrow(abalone_train))\n",
    "\n",
    "abalone_train_proportions"
   ]
  },
  {
   "cell_type": "markdown",
   "id": "23c8bfdd-e907-449e-8a8f-f8277fba34ac",
   "metadata": {},
   "source": [
    "Both 'abalone_data' and 'abalone_train' have similar proportions within the classifier 'sex' indicating that proportions were preserved after the split."
   ]
  },
  {
   "cell_type": "markdown",
   "id": "070b8441-27d2-45e6-b501-c167df58f58f",
   "metadata": {},
   "source": [
    "Before using the training data, we need to make sure our predictor variables are standardized within the training data set."
   ]
  },
  {
   "cell_type": "code",
   "execution_count": 10,
   "id": "29a4e37c-9c82-421c-a960-48ef7b9f14d3",
   "metadata": {
    "tags": []
   },
   "outputs": [],
   "source": [
    "abalone_recipe <- recipe(sex ~ length_mm + whole_weight_g + age_yrs, data = abalone_train) |>\n",
    "  step_scale(all_predictors()) |>\n",
    "  step_center(all_predictors())"
   ]
  }
 ],
 "metadata": {
  "kernelspec": {
   "display_name": "R",
   "language": "R",
   "name": "ir"
  },
  "language_info": {
   "codemirror_mode": "r",
   "file_extension": ".r",
   "mimetype": "text/x-r-source",
   "name": "R",
   "pygments_lexer": "r",
   "version": "4.2.2"
  }
 },
 "nbformat": 4,
 "nbformat_minor": 5
}
